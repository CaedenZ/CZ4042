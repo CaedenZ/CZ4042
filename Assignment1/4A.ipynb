{
 "metadata": {
  "language_info": {
   "codemirror_mode": {
    "name": "ipython",
    "version": 3
   },
   "file_extension": ".py",
   "mimetype": "text/x-python",
   "name": "python",
   "nbconvert_exporter": "python",
   "pygments_lexer": "ipython3",
   "version": 3
  },
  "orig_nbformat": 2
 },
 "nbformat": 4,
 "nbformat_minor": 2,
 "cells": [
  {
   "cell_type": "code",
   "execution_count": null,
   "metadata": {},
   "outputs": [],
   "source": [
    "#!/usr/bin/env python\n",
    "# coding: utf-8\n",
    "\n",
    "# In[1]:\n",
    "\n",
    "\n",
    "import tensorflow as tf\n",
    "from tensorflow.keras import Sequential\n",
    "from tensorflow.keras.layers import Flatten, Dense\n",
    "from tensorflow.keras.regularizers import l2\n",
    "import tensorflow.keras.datasets.mnist as mnist\n",
    "\n",
    "import numpy as np\n",
    "import matplotlib.pyplot as plt\n",
    "import multiprocessing as mp\n",
    "\n",
    "\n",
    "# In[2]:\n",
    "batch_size = 128\n",
    "num_classes = 10\n",
    "no_epochs = 50\n",
    "\n",
    "\n",
    "\n"
   ]
  },
  {
   "cell_type": "code",
   "execution_count": null,
   "metadata": {},
   "outputs": [],
   "source": [
    "def train(para):\n",
    "    (x_train, y_train), (x_test, y_test) = mnist.load_data()\n",
    "    x_train, x_test = x_train / 255.0, x_test / 255.0\n",
    "\n",
    "\n",
    "    model = Sequential([\n",
    "        Flatten(input_shape=(28, 28)),\n",
    "        Dense(625, activation='relu', kernel_regularizer=l2(para)),\n",
    "        Dense(256, activation='relu', kernel_regularizer=l2(para)),\n",
    "        Dense(100, activation='relu', kernel_regularizer=l2(para)),\n",
    "        Dense(10, activation='softmax')])\n",
    "\n",
    "    model.compile(optimizer='sgd',\n",
    "                  loss='sparse_categorical_crossentropy',\n",
    "                  metrics=['accuracy'])\n",
    "\n",
    "    history = model.fit(x_train, y_train,\n",
    "                        batch_size=batch_size,\n",
    "                        epochs=no_epochs,\n",
    "                        verbose=2,\n",
    "                        use_multiprocessing=False,\n",
    "                        validation_data=(x_test, y_test))\n",
    "    \n",
    "    return history.history['val_loss'] #, history.history['val_accuracy']"
   ]
  },
  {
   "cell_type": "code",
   "execution_count": null,
   "metadata": {},
   "outputs": [],
   "source": [
    "no_threads = mp.cpu_count()\n",
    "\n",
    "rates = [0.01, 0.001, 0.0001, 0.0]\n",
    "\n",
    "p = mp.Pool(processes = no_threads)\n",
    "loss = p.map(train, rates)\n",
    "\n",
    "plt.figure(1)\n",
    "for i in range(len(rates)):\n",
    "    plt.plot(range(no_epochs), loss[i], label='beta = {}'.format(rates[i]))\n",
    "\n",
    "plt.xlabel('epochs')\n",
    "plt.ylabel('validation crossentropy')\n",
    "plt.legend()\n",
    "plt.savefig('./figures/6.4b_1.png')\n",
    "plt.show()"
   ]
  }
 ]
}