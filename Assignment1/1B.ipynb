{
 "metadata": {
  "language_info": {
   "codemirror_mode": {
    "name": "ipython",
    "version": 3
   },
   "file_extension": ".py",
   "mimetype": "text/x-python",
   "name": "python",
   "nbconvert_exporter": "python",
   "pygments_lexer": "ipython3",
   "version": 3
  },
  "orig_nbformat": 2
 },
 "nbformat": 4,
 "nbformat_minor": 2,
 "cells": [
  {
   "cell_type": "code",
   "execution_count": null,
   "metadata": {},
   "outputs": [],
   "source": [
    "import tensorflow as tf\n",
    "from tensorflow import keras\n",
    "import numpy as np\n",
    "import matplotlib.pyplot as plt\n"
   ]
  },
  {
   "cell_type": "code",
   "execution_count": null,
   "metadata": {},
   "outputs": [],
   "source": [
    "\n",
    "NUM_CLASSES = 7\n",
    "\n",
    "epochs = 300\n",
    "batch_size = 8\n",
    "num_neurons = 30\n",
    "seed = 10\n",
    "\n",
    "histories={}\n",
    "\n",
    "np.random.seed(seed)\n",
    "tf.random.set_seed(seed)"
   ]
  },
  {
   "cell_type": "code",
   "execution_count": null,
   "metadata": {},
   "outputs": [],
   "source": [
    "#read and divide data into test and train sets \n",
    "admit_data = np.genfromtxt('admission_predict.csv', delimiter= ',')\n",
    "X_data, Y_data = admit_data[1:,1:8], admit_data[1:,-1]\n",
    "Y_data = Y_data.reshape(Y_data.shape[0], 1)\n",
    "\n",
    "idx = np.arange(X_data.shape[0])\n",
    "np.random.shuffle(idx)\n",
    "X_data, Y_data = X_data[idx], Y_data[idx]\n",
    "\n",
    "# experiment with small datasets\n",
    "trainX = X_data[:100]\n",
    "trainY = Y_data[:100]\n",
    "\n",
    "trainX = (trainX- np.mean(trainX, axis=0))/ np.std(trainX, axis=0)"
   ]
  },
  {
   "cell_type": "code",
   "execution_count": null,
   "metadata": {},
   "outputs": [],
   "source": [
    "def create_model():\n",
    "    # create a network\n",
    "    model = keras.Sequential([\n",
    "        keras.layers.Dense(num_neurons, activation='relu'),\n",
    "        keras.layers.Dense(10, activation='relu'),\n",
    "        keras.layers.Dense(1)\n",
    "    ])\n",
    "\n",
    "    optimizer = keras.optimizer.SGD(learning_rate = 0.001)\n",
    "    \n",
    "    model.compile(optimizer='sgd',\n",
    "              loss=keras.losses.MeanSquaredError(),\n",
    "              metrics=['mse'])\n",
    "\n",
    "    return model"
   ]
  }
 ]
}