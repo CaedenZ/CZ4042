{
 "metadata": {
  "language_info": {
   "codemirror_mode": {
    "name": "ipython",
    "version": 3
   },
   "file_extension": ".py",
   "mimetype": "text/x-python",
   "name": "python",
   "nbconvert_exporter": "python",
   "pygments_lexer": "ipython3",
   "version": 3
  },
  "orig_nbformat": 2
 },
 "nbformat": 4,
 "nbformat_minor": 2,
 "cells": [
  {
   "cell_type": "code",
   "execution_count": null,
   "metadata": {},
   "outputs": [],
   "source": [
    "hidden_units = [2, 4, 6, 8, 10, 12]\n",
    "\n",
    "seed = 10\n",
    "tf.random.set_seed(seed)\n",
    "np.random.seed(seed)"
   ]
  },
  {
   "cell_type": "code",
   "execution_count": null,
   "metadata": {},
   "outputs": [],
   "source": [
    "def train_exp(X, Y):\n",
    "\n",
    "    acc = []\n",
    "    for fold in range(no_folds):\n",
    "        start, end = fold*50, (fold+1)*50\n",
    "        x_test, y_test = X[start:end], Y[start:end]\n",
    "        x_train  = np.append(X[:start], X[end:], axis=0)\n",
    "        y_train = np.append(Y[:start], Y[end:], axis=0) \n",
    "\n",
    "        acc_ = []\n",
    "        for no_hidden in hidden_units:\n",
    "        \n",
    "            model = Sequential([\n",
    "                Dense(no_hidden, activation='relu'),\n",
    "                Dense(no_labels, activation='softmax')])\n",
    "    \n",
    "            model.compile(optimizer='sgd', \n",
    "                loss='sparse_categorical_crossentropy',\n",
    "                metrics=['accuracy'])\n",
    "    \n",
    "            history = model.fit(x_train, y_train,\n",
    "                epochs=no_epochs,\n",
    "                verbose=0,\n",
    "                use_multiprocessing=False,\n",
    "                validation_data=(x_test, y_test))\n",
    "    \n",
    "            acc_.append(history.history['val_accuracy'][no_epochs-1])\n",
    "        \n",
    "        acc.append(acc_)\n",
    "    \n",
    "    cv_acc = np.mean(np.array(acc), axis = 0)\n",
    "\n",
    "    return cv_acc"
   ]
  },
  {
   "cell_type": "code",
   "execution_count": null,
   "metadata": {},
   "outputs": [],
   "source": [
    "\n",
    "no_data = len(X)\n",
    "\n",
    "acc = []\n",
    "for exp in range(no_exps):\n",
    "        \n",
    "    idx = np.arange(no_data)\n",
    "    np.random.shuffle(idx)\n",
    "\n",
    "    acc.append(train_exp(X[idx], Y[idx]))\n",
    "    print('exp %d, cv acc %s'%(exp, acc[exp]))\n",
    "\n",
    "mean_acc = np.mean(np.array(acc), axis = 0)\n",
    "print('accuracy %s'%(mean_acc))\n",
    "print('* hidden units %d *'%hidden_units[np.argmax(mean_acc)])"
   ]
  },
  {
   "cell_type": "code",
   "execution_count": null,
   "metadata": {},
   "outputs": [],
   "source": [
    "plt.figure(1)\n",
    "plt.plot(hidden_units, mean_acc, marker = 'x', linestyle = 'None')\n",
    "plt.title('mean cross-validation accuracy')\n",
    "plt.xlabel('number of hidden units')\n",
    "plt.ylabel('mean CV accuracy')\n",
    "plt.savefig('./figures/6.2b_1.png')"
   ]
  }
 ]
}