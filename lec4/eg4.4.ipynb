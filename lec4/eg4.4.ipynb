{
 "cells": [
  {
   "cell_type": "markdown",
   "metadata": {},
   "source": [
    "# Chapter 4, example 4"
   ]
  },
  {
   "cell_type": "code",
   "execution_count": 1,
   "metadata": {},
   "outputs": [],
   "source": [
    "import tensorflow as tf\n",
    "import numpy as np\n",
    "import pylab as plt\n",
    "\n",
    "from sklearn import datasets\n",
    "\n",
    "import os\n",
    "if not os.path.isdir('figures'):\n",
    "    os.makedirs('figures')"
   ]
  },
  {
   "cell_type": "code",
   "execution_count": 2,
   "metadata": {},
   "outputs": [],
   "source": [
    "no_epochs = 2500\n",
    "lr = 0.5\n",
    "\n",
    "SEED = 100\n",
    "np.random.seed(SEED)\n",
    "tf.random.set_seed(SEED)"
   ]
  },
  {
   "cell_type": "code",
   "execution_count": 3,
   "metadata": {},
   "outputs": [
    {
     "name": "stdout",
     "output_type": "stream",
     "text": [
      "(150, 4)\n",
      "(150, 3)\n"
     ]
    }
   ],
   "source": [
    "no_inputs = 4\n",
    "no_outputs = 3\n",
    "\n",
    "# input data\n",
    "iris = datasets.load_iris()\n",
    "iris.data -= np.mean(iris.data, axis=0)\n",
    "\n",
    "no_data = len(iris.data)\n",
    "\n",
    "X = iris.data\n",
    "\n",
    "# convert the targets into one-hot matrix\n",
    "Y = np.zeros((no_data, no_outputs))\n",
    "for i in range(no_data):\n",
    "    Y[i, iris.target[i]] = 1\n",
    "    \n",
    "print(np.shape(X))\n",
    "print(np.shape(Y))"
   ]
  },
  {
   "cell_type": "code",
   "execution_count": 4,
   "metadata": {},
   "outputs": [],
   "source": [
    "class SoftmaxLayer():\n",
    "  def __init__(self, no_inputs, no_outputs):\n",
    "    w_init = tf.random_normal_initializer()\n",
    "    self.w = tf.Variable(w_init(shape=(no_inputs,no_outputs), dtype=tf.float64))\n",
    "    b_init = tf.zeros_initializer()\n",
    "    self.b = tf.Variable(b_init(shape=(no_outputs), dtype=tf.float64))\n",
    "\n",
    "  def __call__(self, x):\n",
    "    u = tf.matmul(x, self.w) + self.b\n",
    "    return tf.exp(u)/tf.reduce_sum(tf.exp(u), axis=1, keepdims=True)"
   ]
  },
  {
   "cell_type": "code",
   "execution_count": 5,
   "metadata": {},
   "outputs": [],
   "source": [
    "def loss(targets, logits):\n",
    "  t_float = tf.cast(targets, tf.float64)\n",
    "  losses = -tf.reduce_mean(tf.reduce_sum(tf.math.log(logits)*targets, axis=1))\n",
    "  class_err = tf.reduce_sum(tf.cast(tf.not_equal(tf.argmax(logits, axis=1), tf.argmax(targets, axis=1)), dtype=tf.int32))\n",
    "  return losses, class_err"
   ]
  },
  {
   "cell_type": "code",
   "execution_count": 6,
   "metadata": {},
   "outputs": [],
   "source": [
    "def train(model, inputs, outputs, learning_rate):\n",
    "  with tf.GradientTape() as t:\n",
    "    current_loss, current_err = loss(outputs, model(inputs))\n",
    "  dw, db = t.gradient(current_loss, [model.w, model.b])\n",
    "  model.w.assign(model.w - learning_rate * dw)\n",
    "  model.b.assign(model.b - learning_rate * db)"
   ]
  },
  {
   "cell_type": "code",
   "execution_count": 7,
   "metadata": {},
   "outputs": [
    {
     "name": "stdout",
     "output_type": "stream",
     "text": [
      "[[ 0.00470517  0.00424244 -0.0228833 ]\n",
      " [-0.0086293  -0.03198624  0.05250187]\n",
      " [ 0.10071415 -0.00131456 -0.00903195]\n",
      " [-0.01193019 -0.04326576 -0.04804788]] [0. 0. 0.]\n"
     ]
    }
   ],
   "source": [
    "model = SoftmaxLayer(no_inputs, no_outputs)\n",
    "\n",
    "print(model.w.numpy(), model.b.numpy())"
   ]
  },
  {
   "cell_type": "code",
   "execution_count": 8,
   "metadata": {},
   "outputs": [
    {
     "name": "stdout",
     "output_type": "stream",
     "text": [
      "Epoch  0:  loss=1.20477:  error=140\n",
      "Epoch 100:  loss=0.16400:  error=  5\n",
      "Epoch 200:  loss=0.11847:  error=  4\n",
      "Epoch 300:  loss=0.09852:  error=  3\n",
      "Epoch 400:  loss=0.08708:  error=  3\n",
      "Epoch 500:  loss=0.07958:  error=  2\n",
      "Epoch 600:  loss=0.07424:  error=  2\n",
      "Epoch 700:  loss=0.07023:  error=  2\n",
      "Epoch 800:  loss=0.06710:  error=  2\n",
      "Epoch 900:  loss=0.06459:  error=  2\n",
      "Epoch 1000:  loss=0.06252:  error=  2\n",
      "Epoch 1100:  loss=0.06078:  error=  3\n",
      "Epoch 1200:  loss=0.05930:  error=  3\n",
      "Epoch 1300:  loss=0.05802:  error=  3\n",
      "Epoch 1400:  loss=0.05690:  error=  3\n",
      "Epoch 1500:  loss=0.05592:  error=  3\n",
      "Epoch 1600:  loss=0.05504:  error=  3\n",
      "Epoch 1700:  loss=0.05426:  error=  3\n",
      "Epoch 1800:  loss=0.05355:  error=  3\n",
      "Epoch 1900:  loss=0.05291:  error=  3\n",
      "Epoch 2000:  loss=0.05233:  error=  3\n",
      "Epoch 2100:  loss=0.05179:  error=  3\n",
      "Epoch 2200:  loss=0.05130:  error=  3\n",
      "Epoch 2300:  loss=0.05085:  error=  3\n",
      "Epoch 2400:  loss=0.05043:  error=  3\n",
      "test error=  3\n"
     ]
    }
   ],
   "source": [
    "entropy, err = [], []\n",
    "for epoch in range(no_epochs):\n",
    "  entropy_, err_ = loss(Y, model(X))\n",
    "  entropy.append(entropy_), err.append(err_)\n",
    "  \n",
    "  train(model, X, Y, learning_rate=lr)\n",
    "\n",
    "  if epoch%100 == 0:\n",
    "      print('Epoch %2d:  loss=%2.5f:  error=%3d'%(epoch, entropy[-1], err[-1]))\n",
    "\n",
    "entropy_, err_ = loss(Y, model(X))\n",
    "print('test error=%3d'%err_)"
   ]
  },
  {
   "cell_type": "code",
   "execution_count": 9,
   "metadata": {},
   "outputs": [
    {
     "name": "stdout",
     "output_type": "stream",
     "text": [
      "w: [[-5.64468184e-01  1.29034580e+00 -7.39813302e-01]\n",
      " [ 2.43509283e+00  1.08464962e-03 -2.42429116e+00]\n",
      " [-5.19366825e+00 -2.52485178e-01  5.53652107e+00]\n",
      " [-2.38732752e+00 -2.88848158e+00  5.17256527e+00]], b: [-0.98272709  5.52615415 -4.54342706]\n"
     ]
    }
   ],
   "source": [
    "# print learned weights\n",
    "print('w: %s, b: %s'%(model.w.numpy(), model.b.numpy()))"
   ]
  },
  {
   "cell_type": "code",
   "execution_count": 10,
   "metadata": {},
   "outputs": [
    {
     "data": {
      "image/png": "[encoded data removed]",
      "text/plain": [
       "<Figure size 432x288 with 1 Axes>"
      ]
     },
     "metadata": {
      "needs_background": "light"
     },
     "output_type": "display_data"
    },
    {
     "data": {
      "image/png": "[encoded data removed]",
      "text/plain": [
       "<Figure size 432x288 with 1 Axes>"
      ]
     },
     "metadata": {
      "needs_background": "light"
     },
     "output_type": "display_data"
    }
   ],
   "source": [
    "# plot learning curves\n",
    "plt.figure(2)\n",
    "plt.plot(range(no_epochs), entropy)\n",
    "plt.xlabel('epochs')\n",
    "plt.ylabel('cross-entropy')\n",
    "plt.savefig('./figures/4.4_1.png')\n",
    "\n",
    "plt.figure(3)\n",
    "plt.plot(range(no_epochs), np.array(err))\n",
    "plt.xlabel('epochs')\n",
    "plt.ylabel('classification error')\n",
    "plt.savefig('./figures/4.4_2.png')"
   ]
  }
 ],
 "metadata": {
  "kernelspec": {
   "display_name": "Python 3",
   "language": "python",
   "name": "python3"
  },
  "language_info": {
   "codemirror_mode": {
    "name": "ipython",
    "version": 3
   },
   "file_extension": ".py",
   "mimetype": "text/x-python",
   "name": "python",
   "nbconvert_exporter": "python",
   "pygments_lexer": "ipython3",
   "version": "3.7.9"
  }
 },
 "nbformat": 4,
 "nbformat_minor": 2
}
